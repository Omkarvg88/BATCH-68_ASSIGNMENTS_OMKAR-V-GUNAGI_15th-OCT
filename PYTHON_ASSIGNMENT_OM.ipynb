{
 "cells": [
  {
   "cell_type": "code",
   "execution_count": 1,
   "id": "0703929b",
   "metadata": {},
   "outputs": [
    {
     "name": "stdout",
     "output_type": "stream",
     "text": [
      "HELLO DEAR\n"
     ]
    }
   ],
   "source": [
    "a = \"HELLO DEAR\"                                                                                    ## Question number-1\n",
    "print(a)"
   ]
  },
  {
   "cell_type": "code",
   "execution_count": 3,
   "id": "d4c5bed0",
   "metadata": {},
   "outputs": [
    {
     "name": "stdout",
     "output_type": "stream",
     "text": [
      "HELLO DEAR\n",
      "HELLO OMKAR\n"
     ]
    }
   ],
   "source": [
    "a = \"HELLO DEAR\"                                                                                    ## Question number-2\n",
    "print(a)\n",
    "a = \"HELLO OMKAR\"\n",
    "print(a)"
   ]
  },
  {
   "cell_type": "code",
   "execution_count": 43,
   "id": "22e9af06",
   "metadata": {},
   "outputs": [
    {
     "name": "stdout",
     "output_type": "stream",
     "text": [
      "Hello Eric, would you like to learn some Python today?\n"
     ]
    }
   ],
   "source": [
    "b = \"Eric\"                                                                                          ## Question number-3\n",
    "print(\"Hello \" +b+','\" would you like to learn some Python today?\")"
   ]
  },
  {
   "cell_type": "code",
   "execution_count": 50,
   "id": "24ed0726",
   "metadata": {},
   "outputs": [
    {
     "name": "stdout",
     "output_type": "stream",
     "text": [
      "Hello Eric, would you like to learn some Python today?\n"
     ]
    }
   ],
   "source": [
    "## OR\n",
    "b = \"Eric\"                                                                                          ## Question number-3\n",
    "print(\"Hello {}, would you like to learn some Python today?\".format(b))"
   ]
  },
  {
   "cell_type": "code",
   "execution_count": 53,
   "id": "d863bc70",
   "metadata": {},
   "outputs": [
    {
     "name": "stdout",
     "output_type": "stream",
     "text": [
      "Albert Einstein once said, “A person who never made a mistake never tried anything new.”\n"
     ]
    }
   ],
   "source": [
    "print(\"Albert Einstein once said, “A person who never made a mistake never tried anything new.”\")   ## Question number-4\n",
    "\n",
    "\n"
   ]
  },
  {
   "cell_type": "code",
   "execution_count": 58,
   "id": "72962485",
   "metadata": {},
   "outputs": [
    {
     "name": "stdout",
     "output_type": "stream",
     "text": [
      "Albert Einstein once said, “A person who never made a mistake never tried anything new.”\n"
     ]
    }
   ],
   "source": [
    "famous_person = \"Albert Einstein\"                                                                  ## Question number-5\n",
    "message = \"{} once said, “A person who never made a mistake never tried anything new.”\"\n",
    "print(message.format(famous_person))"
   ]
  },
  {
   "cell_type": "code",
   "execution_count": 66,
   "id": "3af908bd",
   "metadata": {},
   "outputs": [
    {
     "name": "stdout",
     "output_type": "stream",
     "text": [
      "8\n",
      "8.0\n",
      "8\n",
      "8\n"
     ]
    }
   ],
   "source": [
    "print(5+3)                                                                                         ## Question number-6\n",
    "print(16/2)\n",
    "print(4*2)\n",
    "print(16-8)"
   ]
  },
  {
   "cell_type": "code",
   "execution_count": 73,
   "id": "22bc415d",
   "metadata": {},
   "outputs": [
    {
     "name": "stdout",
     "output_type": "stream",
     "text": [
      "My favourite Number is- 20\n"
     ]
    }
   ],
   "source": [
    "fvrt_num = 20                                                                                    ## Question number-7\n",
    "print(\"My favourite Number is-\",fvrt_num)"
   ]
  },
  {
   "cell_type": "code",
   "execution_count": 3,
   "id": "4c57f452",
   "metadata": {},
   "outputs": [
    {
     "name": "stdout",
     "output_type": "stream",
     "text": [
      "OMKAR\n",
      "SARVESH\n",
      "PRAJWAL\n",
      "ABHI\n"
     ]
    }
   ],
   "source": [
    "names = [\"OMKAR\",\"SARVESH\",\"PRAJWAL\",\"ABHI\"]                                                          ## Question number-9\n",
    "print(names[0])\n",
    "print(names[1])\n",
    "print(names[2])\n",
    "print(names[3])"
   ]
  },
  {
   "cell_type": "code",
   "execution_count": 107,
   "id": "77c2a730",
   "metadata": {},
   "outputs": [
    {
     "name": "stdout",
     "output_type": "stream",
     "text": [
      "Nice to meet you OMKAR\n",
      "Nice to meet you SARVESH\n",
      "Nice to meet you PRAJWAL\n",
      "Nice to meet you ABHI\n"
     ]
    }
   ],
   "source": [
    "name = [\"OMKAR\",\"SARVESH\",\"PRAJWAL\",\"ABHI\"]                                                           ## Question number-10\n",
    "print(\"Nice to meet you\",name[0])\n",
    "print(\"Nice to meet you\",name[1])\n",
    "print(\"Nice to meet you\",name[2])\n",
    "print(\"Nice to meet you\",name[3])"
   ]
  },
  {
   "cell_type": "code",
   "execution_count": 116,
   "id": "9ce170e8",
   "metadata": {},
   "outputs": [
    {
     "name": "stdout",
     "output_type": "stream",
     "text": [
      "OMKAR\n",
      "SARVESH\n",
      "PRAJWAL\n",
      "ABHI\n"
     ]
    }
   ],
   "source": [
    "## another method\n",
    "\n",
    "name = (\"OMKAR,SARVESH,PRAJWAL,ABHI\")                                                          ## Question number-9\n",
    "print(name[0:5])\n",
    "print(name[6:13])\n",
    "print(name[14:21])\n",
    "print(name[22:26])"
   ]
  },
  {
   "cell_type": "code",
   "execution_count": 117,
   "id": "ecc1a8d2",
   "metadata": {},
   "outputs": [
    {
     "name": "stdout",
     "output_type": "stream",
     "text": [
      "Nice to meet you OMKAR\n",
      "Nice to meet you SARVESH\n",
      "Nice to meet you PRAJWAL\n",
      "Nice to meet you ABHI\n"
     ]
    }
   ],
   "source": [
    "name = (\"OMKAR,SARVESH,PRAJWAL,ABHI\")                                                          ## Question number-10\n",
    "print(\"Nice to meet you\",name[0:5])\n",
    "print(\"Nice to meet you\",name[6:13])\n",
    "print(\"Nice to meet you\",name[14:21])\n",
    "print(\"Nice to meet you\",name[22:26])"
   ]
  },
  {
   "cell_type": "code",
   "execution_count": 17,
   "id": "41b9b175",
   "metadata": {},
   "outputs": [
    {
     "name": "stdout",
     "output_type": "stream",
     "text": [
      "A few days ago I went to Manglore by car\n",
      "I go to office by train\n",
      "I used to ride a bicycle when I was young\n",
      "I used to ride a bike when I was in college\n"
     ]
    }
   ],
   "source": [
    "fvrt_mode_transportaion = [\"train\",\"car\",\"bike\",\"bicycle\"]                                    ## Question number-11\n",
    "print(\"A few days ago I went to Manglore by {}\".format(fvrt_mode_transportaion[1]))\n",
    "print(\"I go to office by {}\".format(fvrt_mode_transportaion[0]))\n",
    "print(\"I used to ride a {} when I was young\".format(fvrt_mode_transportaion[3]))\n",
    "print(\"I used to ride a {} when I was in college\".format(fvrt_mode_transportaion[2]))"
   ]
  },
  {
   "cell_type": "code",
   "execution_count": 18,
   "id": "fcb0e08f",
   "metadata": {},
   "outputs": [
    {
     "name": "stdout",
     "output_type": "stream",
     "text": [
      "HELLO DEAR\n"
     ]
    }
   ],
   "source": [
    "## OMKAR GUNAGI_02 NOV-2022\n",
    "## The following program stores a message in a variable and then prints that message\n",
    "\n",
    "a = \"HELLO DEAR\"                                                                                    ## Question number-8\n",
    "print(a)"
   ]
  },
  {
   "cell_type": "code",
   "execution_count": 20,
   "id": "6b7cb0a2",
   "metadata": {},
   "outputs": [
    {
     "name": "stdout",
     "output_type": "stream",
     "text": [
      "My favourite Number is- 20\n"
     ]
    }
   ],
   "source": [
    "# OMKAR GUNAGI_02 NOV-2022\n",
    "# The following program Stores our favourite number in a variable. Then, using that variable, created \n",
    "# a message that reveals our favourite number and Prints that message\n",
    "\n",
    "fvrt_num = 20                                                                                    ## Question number-8\n",
    "print(\"My favourite Number is-\",fvrt_num)\n"
   ]
  }
 ],
 "metadata": {
  "kernelspec": {
   "display_name": "Python 3 (ipykernel)",
   "language": "python",
   "name": "python3"
  },
  "language_info": {
   "codemirror_mode": {
    "name": "ipython",
    "version": 3
   },
   "file_extension": ".py",
   "mimetype": "text/x-python",
   "name": "python",
   "nbconvert_exporter": "python",
   "pygments_lexer": "ipython3",
   "version": "3.9.13"
  }
 },
 "nbformat": 4,
 "nbformat_minor": 5
}
